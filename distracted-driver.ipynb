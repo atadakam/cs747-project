{
 "cells": [
  {
   "cell_type": "code",
   "execution_count": 1,
   "metadata": {},
   "outputs": [
    {
     "name": "stderr",
     "output_type": "stream",
     "text": [
      "Using TensorFlow backend.\n"
     ]
    }
   ],
   "source": [
    "from sklearn.datasets import load_files       \n",
    "from keras.utils import np_utils\n",
    "import numpy as np\n",
    "from glob import glob\n",
    "from sklearn.model_selection import train_test_split\n",
    "import pandas as pd\n",
    "import numpy as np\n",
    "import matplotlib.pyplot as plt\n",
    "from keras.preprocessing import image                  \n",
    "from tqdm import tqdm\n",
    "from PIL import ImageFile\n"
   ]
  },
  {
   "cell_type": "code",
   "execution_count": 2,
   "metadata": {},
   "outputs": [
    {
     "name": "stdout",
     "output_type": "stream",
     "text": [
      "There are 22424 total images.\n",
      "\n",
      "There are 17939 training images.\n",
      "There are 10 total training categories.\n",
      "There are 4485 validation images.\n",
      "There are 0 test images.\n"
     ]
    }
   ],
   "source": [
    "# function for loading datasets\n",
    "def load_dataset(path):\n",
    "    data = load_files(path)\n",
    "    files = np.array(data['filenames'])\n",
    "    targets = np_utils.to_categorical(np.array(data['target']), 10)\n",
    "    return files, targets\n",
    "\n",
    "# loading train, test, and validation datasets\n",
    "train_files, train_targets = load_dataset('imgs/train')\n",
    "test_files, test_targets = load_dataset('imgs/test')\n",
    "\n",
    "\n",
    "# load list of names\n",
    "names = [item[17:19] for item in sorted(glob(\"imgs/train/*/\"))]\n",
    "\n",
    "# break training set into training and validation sets\n",
    "train_files, valid_files, train_targets, valid_targets = train_test_split(train_files, train_targets, test_size=0.2, random_state=42)\n",
    "\n",
    "# statistics regarding dataset\n",
    "print('There are %s total images.\\n' % len(np.hstack([train_files, valid_files, test_files])))\n",
    "print('There are %d training images.' % len(train_files))\n",
    "print('There are %d total training categories.' % len(names))\n",
    "print('There are %d validation images.' % len(valid_files))\n",
    "print('There are %d test images.'% len(test_files))"
   ]
  },
  {
   "cell_type": "code",
   "execution_count": 3,
   "metadata": {},
   "outputs": [
    {
     "name": "stdout",
     "output_type": "stream",
     "text": [
      "0     c0\n",
      "1     c0\n",
      "2     c0\n",
      "3     c0\n",
      "4     c0\n",
      "      ..\n",
      "95    c1\n",
      "96    c1\n",
      "97    c1\n",
      "98    c1\n",
      "99    c1\n",
      "Name: classname, Length: 100, dtype: object\n",
      "count     22424\n",
      "unique       10\n",
      "top          c0\n",
      "freq       2489\n",
      "Name: classname, dtype: object\n",
      "\n",
      "label   #\n",
      "c3    2346\n",
      "c6    2325\n",
      "c1    2267\n",
      "c4    2326\n",
      "c7    2002\n",
      "c2    2317\n",
      "c8    1911\n",
      "c0    2489\n",
      "c9    2129\n",
      "c5    2312\n",
      "Name: classname, dtype: int64\n"
     ]
    }
   ],
   "source": [
    "df = pd.read_csv(\"driver_imgs_list.csv\",header='infer')\n",
    "print(df['classname'].head(100))\n",
    "print(df.iloc[:,1].describe())\n",
    "print(\"\\nlabel   #\")\n",
    "print(df['classname'].value_counts(sort=False))"
   ]
  },
  {
   "cell_type": "code",
   "execution_count": 4,
   "metadata": {},
   "outputs": [
    {
     "data": {
      "image/png": "[encoded data removed]",
      "text/plain": [
       "<Figure size 1440x1080 with 1 Axes>"
      ]
     },
     "metadata": {
      "needs_background": "light"
     },
     "output_type": "display_data"
    }
   ],
   "source": [
    "%matplotlib inline\n",
    "\n",
    "nf = df['classname'].value_counts(sort=False)\n",
    "labels = df['classname'].value_counts(sort=False).index.tolist()\n",
    "y = np.array(nf)\n",
    "width = 1/1.5\n",
    "N = len(y)\n",
    "x = range(N)\n",
    "\n",
    "fig = plt.figure(figsize=(20,15))\n",
    "ay = fig.add_subplot(211)\n",
    "\n",
    "plt.xticks(x, labels, size=15)\n",
    "plt.yticks(size=15)\n",
    "\n",
    "ay.bar(x, y, width, color=\"blue\")\n",
    "\n",
    "plt.title('Bar Chart',size=25)\n",
    "plt.xlabel('classname',size=15)\n",
    "plt.ylabel('Count',size=15)\n",
    "\n",
    "plt.show()"
   ]
  },
  {
   "cell_type": "code",
   "execution_count": 5,
   "metadata": {},
   "outputs": [],
   "source": [
    "def path_to_tensor(img_path):\n",
    "    # loads RGB image as PIL.Image.Image type\n",
    "    img = image.load_img(img_path, target_size=(224, 224))\n",
    "    # convert PIL.Image.Image type to 3D tensor with shape (224, 224, 3)\n",
    "    x = image.img_to_array(img)\n",
    "    # convert 3D tensor to 4D tensor with shape (1, 224, 224, 3) and return 4D tensor\n",
    "    return np.expand_dims(x, axis=0)\n",
    "\n",
    "def paths_to_tensor(img_paths):\n",
    "    list_of_tensors = [path_to_tensor(img_path) for img_path in tqdm(img_paths)]\n",
    "    return np.vstack(list_of_tensors)"
   ]
  },
  {
   "cell_type": "code",
   "execution_count": null,
   "metadata": {},
   "outputs": [
    {
     "name": "stderr",
     "output_type": "stream",
     "text": [
      "100%|██████████| 17939/17939 [01:44<00:00, 171.48it/s]\n"
     ]
    }
   ],
   "source": [
    "# rescaling images by dividing every pixel in every image by 255. \n",
    "# subtract 0.5 to ensure the mean is zero\n",
    "                     \n",
    "ImageFile.LOAD_TRUNCATED_IMAGES = True                 \n",
    "\n",
    "# pre-process the data for Keras\n",
    "train_tensors = paths_to_tensor(train_files).astype('float32')/255 - 0.5\n",
    "valid_tensors = paths_to_tensor(valid_files).astype('float32')/255 - 0.5\n",
    "test_tensors = paths_to_tensor(test_files).astype('float32')/255 - 0.5"
   ]
  },
  {
   "cell_type": "code",
   "execution_count": null,
   "metadata": {},
   "outputs": [],
   "source": []
  }
 ],
 "metadata": {
  "kernelspec": {
   "display_name": "Python 3",
   "language": "python",
   "name": "python3"
  },
  "language_info": {
   "codemirror_mode": {
    "name": "ipython",
    "version": 3
   },
   "file_extension": ".py",
   "mimetype": "text/x-python",
   "name": "python",
   "nbconvert_exporter": "python",
   "pygments_lexer": "ipython3",
   "version": "3.8.2"
  }
 },
 "nbformat": 4,
 "nbformat_minor": 4
}
